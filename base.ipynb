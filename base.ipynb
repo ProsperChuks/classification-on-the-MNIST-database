{
  "nbformat": 4,
  "nbformat_minor": 0,
  "metadata": {
    "colab": {
      "name": "base.ipynb",
      "provenance": [],
      "toc_visible": true,
      "authorship_tag": "ABX9TyNDq0yUwK785SQEPvK1dSSI",
      "include_colab_link": true
    },
    "kernelspec": {
      "name": "python3",
      "display_name": "Python 3"
    },
    "language_info": {
      "name": "python"
    }
  },
  "cells": [
    {
      "cell_type": "markdown",
      "metadata": {
        "id": "view-in-github",
        "colab_type": "text"
      },
      "source": [
        "<a href=\"https://colab.research.google.com/github/ProsperChuks/classification-on-the-MNIST-database/blob/main/base.ipynb\" target=\"_parent\"><img src=\"https://colab.research.google.com/assets/colab-badge.svg\" alt=\"Open In Colab\"/></a>"
      ]
    },
    {
      "cell_type": "markdown",
      "metadata": {
        "id": "SeU3KPrnHXW9"
      },
      "source": [
        "### getting the MNIST dataset"
      ]
    },
    {
      "cell_type": "code",
      "metadata": {
        "id": "xVNvlOdT-6Dx"
      },
      "source": [
        "import tensorflow as tf\n",
        "import numpy as np\n",
        "import matplotlib.pyplot as plt\n",
        "\n",
        "mnist = tf.keras.datasets.mnist"
      ],
      "execution_count": 45,
      "outputs": []
    },
    {
      "cell_type": "code",
      "metadata": {
        "id": "VMFiWWiEAGg3"
      },
      "source": [
        "(x_train, y_train), (x_test, y_test) = mnist.load_data()\n",
        "x_train = tf.keras.utils.normalize(x_train, axis=1)\n",
        "x_test = tf.keras.utils.normalize(x_test, axis=1)"
      ],
      "execution_count": 49,
      "outputs": []
    },
    {
      "cell_type": "markdown",
      "metadata": {
        "id": "wGx1Q1tpFB3I"
      },
      "source": [
        "### building the model"
      ]
    },
    {
      "cell_type": "code",
      "metadata": {
        "id": "0AYJjICtFIMU"
      },
      "source": [
        "model = tf.keras.models.Sequential()\n",
        "# creating first layer(input layer)\n",
        "model.add(tf.keras.layers.Flatten())\n",
        "\n",
        "# creating 2 hidden layers with 128 neurons\n",
        "model.add(tf.keras.layers.Dense(128, activation=tf.nn.relu))\n",
        "model.add(tf.keras.layers.Dense(128, activation=tf.nn.relu))\n",
        "\n",
        "# creating the output layer\n",
        "model.add(tf.keras.layers.Dense(10, activation=tf.nn.softmax))"
      ],
      "execution_count": null,
      "outputs": []
    }
  ]
}